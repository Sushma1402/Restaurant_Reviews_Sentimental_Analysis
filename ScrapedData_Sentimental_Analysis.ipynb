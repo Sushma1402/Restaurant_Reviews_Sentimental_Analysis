{
 "cells": [
  {
   "cell_type": "markdown",
   "id": "17e41066",
   "metadata": {},
   "source": [
    "# Natural Language Processing(NLP) - zomato Reviews\n",
    "\n",
    "## In this project we are going to perform Natural Language Processing. \n",
    "## We are going to use CountVectorizer( Bag Of Words) Technique to predict Positive and Negative reviews.\n",
    "\n",
    "# Problem Statement:\n",
    "## To verify the Sentiment Analysis to determine whether the data is positive or negative\n",
    "\n",
    "### Each review contains textual feedback along with a 1-to-5 star rating system (1 being least satisfied and 5 being most satisfied).\n",
    "### classification models to develop algorithms capable of classifying interactions by sentiment.\n",
    "### Steps: 1)Read and analyze the input text data and the corresponding response variables (ratings)\n",
    "###        2)Perform basic pre-processing to prepare the data for modeling\n",
    "###        3)Learn and apply various ways of featurizing the reviews text\n",
    "###        4)Build machine learning models to classify text as either exhibiting positive or negative sentiment (1 or 0)."
   ]
  },
  {
   "cell_type": "code",
   "execution_count": 1,
   "id": "23dc39a0",
   "metadata": {},
   "outputs": [
    {
     "name": "stderr",
     "output_type": "stream",
     "text": [
      "[nltk_data] Downloading package punkt to\n",
      "[nltk_data]     /Users/sushmapawar/nltk_data...\n",
      "[nltk_data]   Package punkt is already up-to-date!\n",
      "[nltk_data] Downloading package stopwords to\n",
      "[nltk_data]     /Users/sushmapawar/nltk_data...\n",
      "[nltk_data]   Package stopwords is already up-to-date!\n",
      "[nltk_data] Downloading package omw-1.4 to\n",
      "[nltk_data]     /Users/sushmapawar/nltk_data...\n",
      "[nltk_data]   Package omw-1.4 is already up-to-date!\n"
     ]
    }
   ],
   "source": [
    "# General packages\n",
    "import pandas as pd\n",
    "import numpy as np\n",
    "import matplotlib.pyplot as plt\n",
    "import seaborn as sns\n",
    "\n",
    "\n",
    "# NLP packages\n",
    "import nltk\n",
    "# split into part of each word in the sentence\n",
    "# convert the text into some format that the computer can interpret\n",
    "from nltk import word_tokenize\n",
    "# While we analyze the text, we are using sklearn package again to model our text features.\n",
    "from sklearn.feature_extraction.text import CountVectorizer\n",
    "from sklearn.feature_extraction.text import TfidfVectorizer\n",
    "# from collections import Counter\n",
    "\n",
    "\n",
    "nltk.download('punkt')\n",
    "nltk.download('stopwords')\n",
    "nltk.download('omw-1.4')\n",
    "\n",
    "# Modeling Packages\n",
    "from sklearn.model_selection import train_test_split\n",
    "from sklearn.linear_model import LogisticRegression\n",
    "from sklearn.ensemble import RandomForestClassifier\n",
    "from sklearn.metrics import accuracy_score\n",
    "from sklearn.metrics import f1_score\n",
    "\n",
    "\n",
    "\n",
    "import warnings\n",
    "warnings.filterwarnings('ignore')\n",
    "plt.style.use('ggplot')"
   ]
  },
  {
   "cell_type": "code",
   "execution_count": 2,
   "id": "8d782c2b",
   "metadata": {},
   "outputs": [],
   "source": [
    "#to store the new CSV file\n",
    "OUTPUT_PATH = '/Users/sushmapawar/Desktop/Projects/SentimentalAnalysis/'"
   ]
  },
  {
   "cell_type": "markdown",
   "id": "9b14c297",
   "metadata": {},
   "source": [
    "## -------------------Reading and performing basic analysis of the data------------------------"
   ]
  },
  {
   "cell_type": "code",
   "execution_count": 3,
   "id": "d5c5c8e5",
   "metadata": {},
   "outputs": [],
   "source": [
    "# Read the Dataset\n",
    "zomato = pd.read_csv(r'/Users/sushmapawar/Desktop/Projects/SentimentalAnalysis/sentiment_analysis_output.csv')"
   ]
  },
  {
   "cell_type": "markdown",
   "id": "d91affcc",
   "metadata": {},
   "source": [
    "### DATASET DETAILS:--->\n",
    "#### Unnamed: 0 (ordinal): index number   \n",
    "#### Restaurant_Name (text) : Name of restaurant scraped   \n",
    "#### Restaurant_rated (numeric) :   rating given to restaurant                            \n",
    "#### Review_Written_By (text): registered user profile name.\n",
    "#### User_Rated_Restaurant  (ordinal): rating between 1 and 5 by each user.\n",
    "#### Written_Review (text): text of the review."
   ]
  },
  {
   "cell_type": "code",
   "execution_count": 4,
   "id": "9f13b4da",
   "metadata": {},
   "outputs": [
    {
     "name": "stdout",
     "output_type": "stream",
     "text": [
      "DATAFRAME contains how many rows and columns:\n",
      " (3306, 6)\n",
      "<class 'pandas.core.frame.DataFrame'>\n",
      "RangeIndex: 3306 entries, 0 to 3305\n",
      "Data columns (total 6 columns):\n",
      " #   Column                 Non-Null Count  Dtype  \n",
      "---  ------                 --------------  -----  \n",
      " 0   Unnamed: 0             3306 non-null   int64  \n",
      " 1   Restaurant_Name        3306 non-null   object \n",
      " 2   Restaurant_rated       3306 non-null   float64\n",
      " 3   Review_Written_By      3306 non-null   object \n",
      " 4   User_Rated_Restaurant  3306 non-null   float64\n",
      " 5   Written_Review         1909 non-null   object \n",
      "dtypes: float64(2), int64(1), object(3)\n",
      "memory usage: 155.1+ KB\n",
      "DATATYPES:\n",
      " None\n",
      "FIRST ROWS OF DATAFRAME ARE:\n",
      "    Unnamed: 0 Restaurant_Name  Restaurant_rated Review_Written_By  \\\n",
      "0           0            Toit               4.7   Brijmohan Patil   \n",
      "1           1            Toit               4.7    Jasleen Rajpal   \n",
      "2           2            Toit               4.7       Rukmini Das   \n",
      "3           3            Toit               4.7     Ritu Upadhyay   \n",
      "4           4            Toit               4.7          Sambhavi   \n",
      "\n",
      "   User_Rated_Restaurant                                     Written_Review  \n",
      "0                    4.0                                                NaN  \n",
      "1                    5.0  Best food ever! And the packaging was a solid ...  \n",
      "2                    4.0  crumb could be a litter lesser n fish more,non...  \n",
      "3                    1.0                                                NaN  \n",
      "4                    5.0                                                NaN  \n",
      "How many NULLS are their in zomato Dataframe:\n",
      " Unnamed: 0                  0\n",
      "Restaurant_Name             0\n",
      "Restaurant_rated            0\n",
      "Review_Written_By           0\n",
      "User_Rated_Restaurant       0\n",
      "Written_Review           1397\n",
      "dtype: int64\n"
     ]
    }
   ],
   "source": [
    "# to know how many rows and columns dataframe has\n",
    "print('DATAFRAME contains how many rows and columns:\\n',zomato.shape)\n",
    "\n",
    "# to know the datatypes\n",
    "print('DATATYPES:\\n',zomato.info())\n",
    "# print(zomato.describe().transpose())\n",
    "\n",
    "\n",
    "# Check the head function\n",
    "print('FIRST ROWS OF DATAFRAME ARE:\\n',zomato.head())\n",
    "\n",
    "\n",
    "# # Check the nulls\n",
    "print('How many NULLS are their in zomato Dataframe:\\n',zomato.isnull().sum())"
   ]
  },
  {
   "cell_type": "markdown",
   "id": "d8ac62a9",
   "metadata": {},
   "source": [
    "## ------------------------DATA PREPARATION------------------------"
   ]
  },
  {
   "cell_type": "code",
   "execution_count": 5,
   "id": "95cfde91",
   "metadata": {},
   "outputs": [
    {
     "name": "stdout",
     "output_type": "stream",
     "text": [
      "      Unnamed: 0 Restaurant_Name  Restaurant_rated  Review_Written_By  \\\n",
      "0              0            Toit               4.7    Brijmohan Patil   \n",
      "1              1            Toit               4.7     Jasleen Rajpal   \n",
      "2              2            Toit               4.7        Rukmini Das   \n",
      "3              3            Toit               4.7      Ritu Upadhyay   \n",
      "4              4            Toit               4.7           Sambhavi   \n",
      "...          ...             ...               ...                ...   \n",
      "3301        3301     Cafe Paashh               4.9      Shuchi Saxena   \n",
      "3302        3302     Cafe Paashh               4.9   Mohnish Chordiya   \n",
      "3303        3303     Cafe Paashh               4.9  Aditya Shrimankar   \n",
      "3304        3304     Cafe Paashh               4.9           Nehaa T.   \n",
      "3305        3305     Cafe Paashh               4.9       Dishita Shah   \n",
      "\n",
      "      User_Rated_Restaurant                                     Written_Review  \n",
      "0                       4.0                                                  -  \n",
      "1                       5.0  Best food ever! And the packaging was a solid ...  \n",
      "2                       4.0  crumb could be a litter lesser n fish more,non...  \n",
      "3                       1.0                                                  -  \n",
      "4                       5.0                                                  -  \n",
      "...                     ...                                                ...  \n",
      "3301                    5.0                                                  -  \n",
      "3302                    5.0                                                  -  \n",
      "3303                    3.0                                                  -  \n",
      "3304                    3.0  not too good. was expecting more from here sin...  \n",
      "3305                    5.0                                                  -  \n",
      "\n",
      "[3306 rows x 6 columns]\n"
     ]
    }
   ],
   "source": [
    "# replacing blanks in Written_Review with \"-\"\n",
    "zomato[\"Written_Review\"].fillna(\"-\",inplace=True)\n",
    "print(zomato)\n",
    "\n"
   ]
  },
  {
   "cell_type": "code",
   "execution_count": 6,
   "id": "1df3b7a0",
   "metadata": {},
   "outputs": [
    {
     "name": "stdout",
     "output_type": "stream",
     "text": [
      "\n",
      "Splitted Review By Spaces:\n",
      " 0        1\n",
      "1       11\n",
      "2       16\n",
      "3        1\n",
      "4        1\n",
      "        ..\n",
      "3301     1\n",
      "3302     1\n",
      "3303     1\n",
      "3304    13\n",
      "3305     1\n",
      "Name: Written_Review, Length: 3306, dtype: int64\n"
     ]
    },
    {
     "data": {
      "image/png": "[encoded data removed]",
      "text/plain": [
       "<Figure size 432x288 with 1 Axes>"
      ]
     },
     "metadata": {},
     "output_type": "display_data"
    },
    {
     "name": "stdout",
     "output_type": "stream",
     "text": [
      "Average words: 25.171203871748336\n",
      "Skewness: 1.6621400523063772\n"
     ]
    }
   ],
   "source": [
    "# the distribution of number of words per review.lambda function that splits each complete review by spaces\n",
    "# getting the number of words by splitting them by space\n",
    "words_per_review = zomato.Written_Review.apply(lambda x: len(x.split(\" \")))\n",
    "print('\\nSplitted Review By Spaces:\\n',words_per_review)\n",
    "words_per_review.hist(bins=100)\n",
    "plt.xlabel('Review Length (words)')\n",
    "plt.ylabel('Frequency')\n",
    "plt.show()\n",
    "\n",
    "print('Average words:',words_per_review.mean())\n",
    "print('Skewness:',words_per_review.skew())\n",
    "\n",
    "# We can see that the number of words per user review is highly positive skewed with mean of 25, \n",
    "# which means that on average, user reviews have 25 words.\n",
    "\n"
   ]
  },
  {
   "cell_type": "code",
   "execution_count": 7,
   "id": "d3f341f9",
   "metadata": {},
   "outputs": [
    {
     "data": {
      "image/png": "[encoded data removed]",
      "text/plain": [
       "<Figure size 432x288 with 1 Axes>"
      ]
     },
     "metadata": {},
     "output_type": "display_data"
    }
   ],
   "source": [
    "percent_val = 100 * zomato['User_Rated_Restaurant'].value_counts()/len(zomato)\n",
    "percent_val\n",
    "percent_val.plot.bar()\n",
    "plt.show()\n",
    "# The distribution is quite skewed, with a more number of 5 and very few 3, 2, and 1."
   ]
  },
  {
   "cell_type": "markdown",
   "id": "dfebdc21",
   "metadata": {},
   "source": [
    "## -----------------Standardizing the ratings for sentiment analysis (5)--------------"
   ]
  },
  {
   "cell_type": "markdown",
   "id": "3ac3836e",
   "metadata": {},
   "source": [
    "#### For the purposes of sentiment analysis, we will convert all of the ratings into binary values:\n",
    "\n",
    "#### 1) Ratings of 4 or 5 will get mapped to 1 and will be reltead to positive reviews\n",
    "#### 2) Ratings of 1 or 2 will get mapped to 0 and will be related to negative reviews\n",
    "#### 3) Ratings of 3 will get removed since they will represent neutral reviews."
   ]
  },
  {
   "cell_type": "code",
   "execution_count": 8,
   "id": "f2cbf0c9",
   "metadata": {},
   "outputs": [
    {
     "name": "stdout",
     "output_type": "stream",
     "text": [
      "1    2535\n",
      "0     771\n",
      "Name: Sentiment_Rating, dtype: int64\n"
     ]
    },
    {
     "data": {
      "image/png": "[encoded data removed]",
      "text/plain": [
       "<Figure size 432x288 with 1 Axes>"
      ]
     },
     "metadata": {},
     "output_type": "display_data"
    }
   ],
   "source": [
    "# Mapping the ratings\n",
    "zomato['Sentiment_Rating']= np.where(zomato.User_Rated_Restaurant <= 3,0,1)\n",
    "# removing neutral reviews\n",
    "# zomato = zomato[zomato.User_Rated_Restaurant !=3]\n",
    "# printing the counts of each class\n",
    "print(zomato['Sentiment_Rating'].value_counts())\n",
    "zomato.Sentiment_Rating.value_counts().plot.bar()\n",
    "plt.show()"
   ]
  },
  {
   "cell_type": "code",
   "execution_count": 9,
   "id": "f0c59220",
   "metadata": {},
   "outputs": [
    {
     "name": "stdout",
     "output_type": "stream",
     "text": [
      "After EDA dataframe has rows and columns: (3306, 7)\n"
     ]
    }
   ],
   "source": [
    "# dowload the Data cleaned CSV\n",
    "zomato.to_csv(OUTPUT_PATH + 'Data_Prepared_Dataset.csv')\n",
    "\n",
    "# After performing EDA how many rows and columns dataframe has\n",
    "print('After EDA dataframe has rows and columns:',zomato.shape)"
   ]
  },
  {
   "cell_type": "markdown",
   "id": "ed028858",
   "metadata": {},
   "source": [
    "## --------------------------Pre-processing-----------------------"
   ]
  },
  {
   "cell_type": "markdown",
   "id": "8465fd21",
   "metadata": {},
   "source": [
    "#### text preprocessing and normalization is crucial before building a proper NLP model. \n",
    "#### Some of the important steps are:\n",
    "####                               1) Converting words to lower/upper case\n",
    "####                               2) Removing special characters\n",
    "####                               3) Removing stopwords and high/low-frequency words\n",
    "####                               4) Stemming/lemmatization"
   ]
  },
  {
   "cell_type": "markdown",
   "id": "b9b29478",
   "metadata": {},
   "source": [
    "# .......................1. Converting words to lower/upper case............................\n"
   ]
  },
  {
   "cell_type": "code",
   "execution_count": 10,
   "id": "aa579543",
   "metadata": {},
   "outputs": [],
   "source": [
    "zomato['Written_Review_new'] = zomato.Written_Review.str.lower()"
   ]
  },
  {
   "cell_type": "code",
   "execution_count": 11,
   "id": "3931398f",
   "metadata": {},
   "outputs": [
    {
     "name": "stdout",
     "output_type": "stream",
     "text": [
      "Number of unique tokens then: 7846\n",
      "Number of unique tokens then: 6475\n"
     ]
    }
   ],
   "source": [
    "# the number of unique words that are found in reviews before and after applying this step. \n",
    "# This process of extracting individual words is called word tokenization,\n",
    "#  and can be run using the word_tokenize function in the nltk package:\n",
    "\n",
    "# for written reviews not converted to lower case\n",
    "token_lists = [word_tokenize(each) for each in zomato['Written_Review']]\n",
    "tokens = [item for sublist in token_lists for item in sublist]\n",
    "print('Number of unique tokens then:',len(set(tokens)))\n",
    "\n",
    "# for written reviews converted to lower case\n",
    "token_lists = [word_tokenize(each) for each in zomato['Written_Review_new']]\n",
    "tokens = [item  for sublist in token_lists for item in sublist]\n",
    "print('Number of unique tokens then:',len(set(tokens)))"
   ]
  },
  {
   "cell_type": "markdown",
   "id": "117d15c0",
   "metadata": {},
   "source": [
    "# .........................2. Removing special characters..........................\n",
    "### removing non-emotionally charged punctuation such as commas, periods, and semicolons\n",
    "### The following gives a list of all the special characters in our dataset"
   ]
  },
  {
   "cell_type": "code",
   "execution_count": 12,
   "id": "e127837b",
   "metadata": {},
   "outputs": [
    {
     "data": {
      "text/plain": [
       "{'\\n',\n",
       " '!',\n",
       " '\"',\n",
       " '#',\n",
       " '%',\n",
       " '&',\n",
       " \"'\",\n",
       " '(',\n",
       " ')',\n",
       " '*',\n",
       " '+',\n",
       " ',',\n",
       " '-',\n",
       " '.',\n",
       " '/',\n",
       " ':',\n",
       " ';',\n",
       " '<',\n",
       " '=',\n",
       " '?',\n",
       " '@',\n",
       " '^',\n",
       " '_',\n",
       " '|',\n",
       " '~',\n",
       " '\\u200d',\n",
       " '–',\n",
       " '—',\n",
       " '‘',\n",
       " '’',\n",
       " '“',\n",
       " '”',\n",
       " '•',\n",
       " '…',\n",
       " '₹',\n",
       " '☹',\n",
       " '☺',\n",
       " '♀',\n",
       " '♥',\n",
       " '✅',\n",
       " '✌',\n",
       " '✔',\n",
       " '✨',\n",
       " '❣',\n",
       " '❤',\n",
       " '⭐',\n",
       " '️',\n",
       " '🌃',\n",
       " '🌈',\n",
       " '🌉',\n",
       " '🌊',\n",
       " '🌟',\n",
       " '🌮',\n",
       " '🌶',\n",
       " '🍈',\n",
       " '🍉',\n",
       " '🍊',\n",
       " '🍍',\n",
       " '🍔',\n",
       " '🍕',\n",
       " '🍖',\n",
       " '🍗',\n",
       " '🍟',\n",
       " '🍧',\n",
       " '🍪',\n",
       " '🍮',\n",
       " '🍰',\n",
       " '🍱',\n",
       " '🍷',\n",
       " '🍸',\n",
       " '🍹',\n",
       " '🍺',\n",
       " '🍻',\n",
       " '🍾',\n",
       " '🍿',\n",
       " '🎉',\n",
       " '🎊',\n",
       " '🎵',\n",
       " '🎶',\n",
       " '🏖',\n",
       " '🏻',\n",
       " '🏼',\n",
       " '🐔',\n",
       " '👀',\n",
       " '👅',\n",
       " '👊',\n",
       " '👌',\n",
       " '👍',\n",
       " '👎',\n",
       " '👏',\n",
       " '👑',\n",
       " '👹',\n",
       " '💃',\n",
       " '💓',\n",
       " '💕',\n",
       " '💖',\n",
       " '💗',\n",
       " '💛',\n",
       " '💜',\n",
       " '💥',\n",
       " '💫',\n",
       " '💯',\n",
       " '📌',\n",
       " '📍',\n",
       " '🔥',\n",
       " '😀',\n",
       " '😁',\n",
       " '😂',\n",
       " '😃',\n",
       " '😅',\n",
       " '😇',\n",
       " '😉',\n",
       " '😊',\n",
       " '😋',\n",
       " '😍',\n",
       " '😎',\n",
       " '😏',\n",
       " '😐',\n",
       " '😑',\n",
       " '😔',\n",
       " '😘',\n",
       " '😜',\n",
       " '😝',\n",
       " '😤',\n",
       " '😥',\n",
       " '😬',\n",
       " '😮',\n",
       " '😻',\n",
       " '🙂',\n",
       " '🙅',\n",
       " '🙌',\n",
       " '🙏',\n",
       " '🤌',\n",
       " '🤔',\n",
       " '🤗',\n",
       " '🤘',\n",
       " '🤟',\n",
       " '🤣',\n",
       " '🤤',\n",
       " '🤩',\n",
       " '🤪',\n",
       " '🤷',\n",
       " '🥂',\n",
       " '🥃',\n",
       " '🥚',\n",
       " '🥝',\n",
       " '🥟',\n",
       " '🥰',\n",
       " '🥳',\n",
       " '\\U0001f979',\n",
       " '🥺',\n",
       " '🦆',\n",
       " '🦢',\n",
       " '🧀',\n",
       " '🧁',\n",
       " '🧆',\n",
       " '🧸',\n",
       " '🫐'}"
      ]
     },
     "execution_count": 12,
     "metadata": {},
     "output_type": "execute_result"
    }
   ],
   "source": [
    "# selecting non-alpha numeric characters that are not spaces\n",
    "spl_chars = zomato['Written_Review_new'].apply(lambda review: [char for char in list(review) if not char.isalnum() and char != ' '])\n",
    "# getting list of list into single list \n",
    "flat_list = [item  for sublist in spl_chars for item in sublist]\n",
    "# Unique special characters\n",
    "set(flat_list)"
   ]
  },
  {
   "cell_type": "markdown",
   "id": "dd8c12c7",
   "metadata": {},
   "source": [
    "#### [ ]: match any character inside the list defined by the square brackets, including the space character ' '\n",
    "#### ^: start of the line\n",
    "#### A-Z: accept english upper case characters from A to Z\n",
    "#### a-z: accept english lower case characters from a to z\n",
    "#### 0-9: accept single number characters from 0 to 9"
   ]
  },
  {
   "cell_type": "code",
   "execution_count": 13,
   "id": "51631dc9",
   "metadata": {},
   "outputs": [
    {
     "name": "stdout",
     "output_type": "stream",
     "text": [
      "-Old Review:-\n",
      "looks good, delivery boy spoiled it\n",
      "-New Review-\n",
      "looks good  delivery boy spoiled it\n"
     ]
    }
   ],
   "source": [
    "review_backup = zomato['Written_Review_new'].copy()\n",
    "zomato['Written_Review_new'] = zomato['Written_Review_new'].str.replace(r'[^A-Za-z0-9 ]+', ' ')\n",
    "\n",
    "print('-Old Review:-')\n",
    "print(review_backup.values[6])\n",
    "print('-New Review-')\n",
    "print(zomato['Written_Review_new'][6])"
   ]
  },
  {
   "cell_type": "code",
   "execution_count": 14,
   "id": "45976a09",
   "metadata": {},
   "outputs": [
    {
     "name": "stdout",
     "output_type": "stream",
     "text": [
      "Number of unique tokens then: 7846\n",
      "Number of unique tokens then: 5770\n"
     ]
    }
   ],
   "source": [
    "# for written reviews not converted to lower case\n",
    "token_lists = [word_tokenize(each) for each in zomato['Written_Review']]\n",
    "tokens = [item  for sublist in token_lists for item in sublist]\n",
    "print('Number of unique tokens then:',len(set(tokens)))\n",
    "\n",
    "# for written reviews converted to lower case\n",
    "token_lists = [word_tokenize(each) for each in zomato['Written_Review_new']]\n",
    "tokens = [item  for sublist in token_lists for item in sublist]\n",
    "print('Number of unique tokens then:',len(set(tokens)))"
   ]
  },
  {
   "cell_type": "markdown",
   "id": "10f19a56",
   "metadata": {},
   "source": [
    "# ........................3. Stopwords and high/low frequency words............................\n",
    "#### stopwords naturally occur very frequently in the English language\n",
    "####  without adding any context specific insights. It makes sense to remove them"
   ]
  },
  {
   "cell_type": "code",
   "execution_count": 15,
   "id": "37e28e09",
   "metadata": {},
   "outputs": [
    {
     "name": "stdout",
     "output_type": "stream",
     "text": [
      "['arabic', 'azerbaijani', 'basque', 'bengali', 'catalan', 'chinese', 'danish', 'dutch', 'english', 'finnish', 'french', 'german', 'greek', 'hebrew', 'hinglish', 'hungarian', 'indonesian', 'italian', 'kazakh', 'nepali', 'norwegian', 'portuguese', 'romanian', 'russian', 'slovene', 'spanish', 'swedish', 'tajik', 'turkish']\n",
      "Original sentence best food ever  and the packaging was a solid 10 10 loved it \n",
      "Stopwords in the sentence ['and', 'the', 'was', 'a', 'it']\n",
      "Non-stopwords in the sentence ['best', 'food', 'ever', 'packaging', 'solid', '10', '10', 'loved']\n"
     ]
    }
   ],
   "source": [
    "from nltk.corpus import stopwords\n",
    "# to see which all languages are available\n",
    "print(stopwords.fileids())\n",
    "\n",
    "\n",
    "noise_words = []\n",
    "# list of English stopwords:\n",
    "eng_stop_words = stopwords.words('english')\n",
    "eng_stop_words\n",
    "\n",
    "stop_words = set(eng_stop_words)\n",
    "Without_stop_words = []\n",
    "stopword = []\n",
    "sentence = zomato['Written_Review_new'][1]\n",
    "words = nltk.word_tokenize(sentence)\n",
    "for word in words:\n",
    "  if word in stop_words:\n",
    "    stopword.append(word)\n",
    "  else:\n",
    "    Without_stop_words.append(word)\n",
    "\n",
    "print('Original sentence',sentence)\n",
    "print('Stopwords in the sentence',stopword)\n",
    "print('Non-stopwords in the sentence',Without_stop_words)\n",
    "\n"
   ]
  },
  {
   "cell_type": "code",
   "execution_count": 16,
   "id": "52f464dc",
   "metadata": {},
   "outputs": [
    {
     "name": "stdout",
     "output_type": "stream",
     "text": [
      "                                     Written_Review_new  \\\n",
      "0                                                         \n",
      "1     best food ever  and the packaging was a solid ...   \n",
      "2     crumb could be a litter lesser n fish more non...   \n",
      "3                                                         \n",
      "4                                                         \n",
      "...                                                 ...   \n",
      "3301                                                      \n",
      "3302                                                      \n",
      "3303                                                      \n",
      "3304  not too good  was expecting more from here sin...   \n",
      "3305                                                      \n",
      "\n",
      "                                 Written_Review_nonstop  \n",
      "0                                                    []  \n",
      "1     [best, food, ever, packaging, solid, 10, 10, l...  \n",
      "2     [crumb, could, litter, lesser, n, fish, noneth...  \n",
      "3                                                    []  \n",
      "4                                                    []  \n",
      "...                                                 ...  \n",
      "3301                                                 []  \n",
      "3302                                                 []  \n",
      "3303                                                 []  \n",
      "3304             [good, expecting, since, prices, high]  \n",
      "3305                                                 []  \n",
      "\n",
      "[3306 rows x 2 columns]\n"
     ]
    }
   ],
   "source": [
    "# function to omit these stopwords from our written reviews:\n",
    "def stopwords_removal(stop_words,sentence):\n",
    "  return [word for word in nltk.word_tokenize(sentence) if word not in stop_words]\n",
    "zomato['Written_Review_nonstop'] = zomato['Written_Review_new'].apply(lambda row: stopwords_removal(stop_words, row))\n",
    "print(zomato[['Written_Review_new','Written_Review_nonstop']])"
   ]
  },
  {
   "cell_type": "markdown",
   "id": "56139ab5",
   "metadata": {},
   "source": [
    "###.........................4. Stemming & lemmatization...............................\n",
    "#### Stemming works by cutting off the end or the beginning of the word.\n",
    "#### Lemmatization considers the grammar of the word and tries to find the root word.\n",
    "#### we get a meaning root word from Lemmatizer while \n",
    "#### Stemmer just cuts out and extracts the first important part of the word."
   ]
  },
  {
   "cell_type": "code",
   "execution_count": 17,
   "id": "02459f58",
   "metadata": {},
   "outputs": [
    {
     "name": "stderr",
     "output_type": "stream",
     "text": [
      "[nltk_data] Downloading package wordnet to\n",
      "[nltk_data]     /Users/sushmapawar/nltk_data...\n",
      "[nltk_data]   Package wordnet is already up-to-date!\n"
     ]
    },
    {
     "name": "stdout",
     "output_type": "stream",
     "text": [
      "                                 Written_Review_nonstop  \\\n",
      "0                                                    []   \n",
      "1     [best, food, ever, packaging, solid, 10, 10, l...   \n",
      "2     [crumb, could, litter, lesser, n, fish, noneth...   \n",
      "3                                                    []   \n",
      "4                                                    []   \n",
      "...                                                 ...   \n",
      "3301                                                 []   \n",
      "3302                                                 []   \n",
      "3303                                                 []   \n",
      "3304             [good, expecting, since, prices, high]   \n",
      "3305                                                 []   \n",
      "\n",
      "                                   Written_Review_stemm  \\\n",
      "0                                                    []   \n",
      "1            [best, food, ev, pack, solid, 10, 10, lov]   \n",
      "2     [crumb, could, lit, less, n, fish, nonetheless...   \n",
      "3                                                    []   \n",
      "4                                                    []   \n",
      "...                                                 ...   \n",
      "3301                                                 []   \n",
      "3302                                                 []   \n",
      "3303                                                 []   \n",
      "3304                   [good, expect, sint, pric, high]   \n",
      "3305                                                 []   \n",
      "\n",
      "                                    Written_Review_lemm  \n",
      "0                                                    []  \n",
      "1     [best, food, ever, packaging, solid, 10, 10, l...  \n",
      "2     [crumb, could, litter, lesser, n, fish, noneth...  \n",
      "3                                                    []  \n",
      "4                                                    []  \n",
      "...                                                 ...  \n",
      "3301                                                 []  \n",
      "3302                                                 []  \n",
      "3303                                                 []  \n",
      "3304              [good, expecting, since, price, high]  \n",
      "3305                                                 []  \n",
      "\n",
      "[3306 rows x 3 columns]\n"
     ]
    }
   ],
   "source": [
    "from nltk.stem import PorterStemmer, LancasterStemmer # Common stemmers\n",
    "from nltk.stem import WordNetLemmatizer # Common Lematizer\n",
    "nltk.download('wordnet')\n",
    "from nltk.corpus import wordnet\n",
    "\n",
    "porter = PorterStemmer()\n",
    "lancaster = LancasterStemmer()\n",
    "lemmatizer = WordNetLemmatizer()\n",
    "\n",
    "\n",
    "def stemm_terms(row):\n",
    "    return [lancaster.stem(term) for term in row]\n",
    "def lemmatize_terms(row):\n",
    "    return [lemmatizer.lemmatize(term) for term in row]\n",
    "    \n",
    "zomato['Written_Review_stemm'] = zomato['Written_Review_nonstop'].apply(lambda row: stemm_terms(row))\n",
    "zomato['Written_Review_lemm'] = zomato['Written_Review_nonstop'].apply(lambda row: lemmatize_terms(row))\n",
    "print(zomato[['Written_Review_nonstop','Written_Review_stemm','Written_Review_lemm']])\n",
    "\n"
   ]
  },
  {
   "cell_type": "markdown",
   "id": "a430112b",
   "metadata": {},
   "source": [
    "# ----------------------------Building a machine learning model--------------------"
   ]
  },
  {
   "cell_type": "markdown",
   "id": "42f5e557",
   "metadata": {},
   "source": [
    "### A)________________________Bag-of-words________________________\n",
    "#### The bag-of-words procedure falls under a broader category of techniques known as count-based representations.\n",
    "####  create a word-document co-occurrence matrix for our set of reviews using the CountVectorizer class \n",
    "#### that automatically accounts for certain preprocessing steps like removing stopwords, stemming,and word tokenization."
   ]
  },
  {
   "cell_type": "code",
   "execution_count": 18,
   "id": "8c998136",
   "metadata": {},
   "outputs": [
    {
     "name": "stdout",
     "output_type": "stream",
     "text": [
      "   00  000  000rs  00pm  10  100  1000  100rs  1058  10mins  ...  yumm  \\\n",
      "0   0    0      0     0   0    0     0      0     0       0  ...     0   \n",
      "1   0    0      0     0   2    0     0      0     0       0  ...     0   \n",
      "2   0    0      0     0   0    0     0      0     0       0  ...     0   \n",
      "3   0    0      0     0   0    0     0      0     0       0  ...     0   \n",
      "4   0    0      0     0   0    0     0      0     0       0  ...     0   \n",
      "\n",
      "   yummiest  yummmm  yummy  zafrani  zero  zest  zishan  zomato  zone  \n",
      "0         0       0      0        0     0     0       0       0     0  \n",
      "1         0       0      0        0     0     0       0       0     0  \n",
      "2         0       0      0        0     0     0       0       0     0  \n",
      "3         0       0      0        0     0     0       0       0     0  \n",
      "4         0       0      0        0     0     0       0       0     0  \n",
      "\n",
      "[5 rows x 5739 columns]\n"
     ]
    }
   ],
   "source": [
    "# The following code creates a word-document matrix.\n",
    "from sklearn.feature_extraction.text import CountVectorizer\n",
    "\n",
    "vec = CountVectorizer()\n",
    "X = vec.fit_transform(zomato['Written_Review_new'])\n",
    "df = pd.DataFrame(X.toarray(), columns = vec.get_feature_names())\n",
    "print(df.head())"
   ]
  },
  {
   "cell_type": "code",
   "execution_count": 19,
   "id": "1e24f21d",
   "metadata": {},
   "outputs": [
    {
     "name": "stdout",
     "output_type": "stream",
     "text": [
      "  (1, 627)\t1\n",
      "  (1, 2049)\t1\n",
      "  (1, 1814)\t1\n",
      "  (1, 319)\t1\n",
      "  (1, 5152)\t1\n",
      "  (1, 3613)\t1\n",
      "  (1, 5566)\t1\n",
      "  (1, 133)\t1\n",
      "  (1, 4719)\t1\n",
      "  (1, 6)\t2\n",
      "  (1, 3026)\t1\n",
      "  (1, 2672)\t1\n",
      "  (2, 319)\t1\n",
      "  (2, 5152)\t1\n",
      "  (2, 133)\t1\n",
      "  (2, 1354)\t1\n",
      "  (2, 1287)\t1\n",
      "  (2, 575)\t1\n",
      "  (2, 2967)\t1\n",
      "  (2, 2912)\t1\n",
      "  (2, 3344)\t1\n",
      "  (2, 2006)\t1\n",
      "  (2, 3281)\t1\n",
      "  (2, 3423)\t1\n",
      "  (2, 5144)\t1\n",
      "  :\t:\n",
      "  (3299, 5518)\t1\n",
      "  (3299, 3336)\t1\n",
      "  (3299, 3187)\t1\n",
      "  (3299, 454)\t1\n",
      "  (3299, 2675)\t1\n",
      "  (3299, 3284)\t1\n",
      "  (3299, 5461)\t1\n",
      "  (3299, 2480)\t1\n",
      "  (3299, 2368)\t1\n",
      "  (3299, 867)\t1\n",
      "  (3299, 3717)\t1\n",
      "  (3299, 1118)\t1\n",
      "  (3304, 5566)\t1\n",
      "  (3304, 3281)\t1\n",
      "  (3304, 2220)\t1\n",
      "  (3304, 3435)\t1\n",
      "  (3304, 390)\t1\n",
      "  (3304, 2407)\t1\n",
      "  (3304, 4708)\t1\n",
      "  (3304, 2414)\t1\n",
      "  (3304, 2125)\t1\n",
      "  (3304, 5256)\t1\n",
      "  (3304, 3949)\t1\n",
      "  (3304, 4632)\t1\n",
      "  (3304, 1869)\t1\n"
     ]
    }
   ],
   "source": [
    "### Creating a python object of the class CountVectorizer\n",
    "bow_counts = CountVectorizer(tokenizer= word_tokenize,    # type of tokenization\n",
    "                             stop_words=noise_words,      # List of stopwords\n",
    "                             ngram_range=(1,1))           # number of n-grams\n",
    "\n",
    "bow_data = bow_counts.fit_transform(zomato['Written_Review_new'])\n",
    "# sparse matrix is created.\n",
    "print(bow_data)"
   ]
  },
  {
   "cell_type": "code",
   "execution_count": 20,
   "id": "63a5d643",
   "metadata": {},
   "outputs": [
    {
     "name": "stdout",
     "output_type": "stream",
     "text": [
      "1    0.787009\n",
      "0    0.212991\n",
      "Name: Sentiment_Rating, dtype: float64\n"
     ]
    }
   ],
   "source": [
    "X_train_bow, X_test_bow, y_train_bow, y_test_bow = train_test_split(bow_data, # Features\n",
    "                                                                    zomato['Sentiment_Rating'], # Target variable\n",
    "                                                                    test_size = 0.2,            # 20% test size\n",
    "                                                                    random_state = 0)           # random state for replication purposes\n",
    "print(y_test_bow.value_counts()/y_test_bow.shape[0])  \n",
    "# The test data contains 78% positive sentiment reviews"
   ]
  },
  {
   "cell_type": "code",
   "execution_count": 21,
   "id": "2287b370",
   "metadata": {},
   "outputs": [
    {
     "name": "stdout",
     "output_type": "stream",
     "text": [
      "MultinomialNB()\n",
      "Prediction:\n",
      " [1 1 0 1 1 1 1 1 1 1 0 1 1 1 1 1 0 1 1 1 1 0 1 1 1 1 0 1 1 1 1 1 1 1 1 1 1\n",
      " 1 1 1 1 1 1 1 1 1 0 1 1 0 0 1 0 1 1 1 1 1 1 1 1 0 1 1 1 1 1 1 1 1 1 1 1 1\n",
      " 1 1 1 1 1 1 1 1 1 1 1 1 1 1 1 0 1 1 1 1 1 1 1 0 0 1 1 1 0 1 1 1 1 1 1 1 1\n",
      " 1 1 1 1 1 1 1 1 1 1 1 1 1 1 1 0 1 1 0 0 1 1 0 1 1 1 1 1 0 1 1 1 1 1 1 0 0\n",
      " 1 1 1 1 1 1 1 1 1 1 1 1 1 1 1 1 1 1 0 0 1 1 1 1 0 0 1 1 1 0 1 1 1 1 1 1 1\n",
      " 1 1 1 1 1 1 1 1 1 0 1 1 0 1 0 1 1 1 1 1 1 1 1 1 1 1 1 1 1 1 1 1 1 0 0 1 1\n",
      " 1 1 1 1 1 1 1 1 1 0 1 1 1 1 1 1 1 1 1 0 1 1 1 1 1 1 1 0 1 1 0 1 1 1 1 1 1\n",
      " 1 1 1 1 1 1 1 1 1 1 1 1 1 1 1 1 1 1 1 1 1 1 1 1 1 1 1 1 1 1 1 1 1 1 0 1 1\n",
      " 1 1 1 1 1 1 0 1 1 1 0 1 1 1 1 1 1 1 1 1 0 1 1 1 1 1 1 0 1 1 1 1 0 1 1 0 1\n",
      " 1 1 1 0 1 1 1 1 1 1 0 1 1 1 1 1 0 1 1 1 1 0 1 1 1 1 1 1 1 0 1 1 1 1 1 1 1\n",
      " 0 1 1 0 1 1 1 1 1 0 1 0 1 0 1 1 1 0 0 1 1 1 1 1 0 1 1 1 1 1 1 1 1 1 0 1 1\n",
      " 1 1 1 1 1 0 0 1 1 1 1 1 1 1 1 1 1 1 1 1 1 1 0 1 1 1 0 1 1 0 1 1 1 1 0 0 1\n",
      " 1 1 0 1 1 1 0 1 1 1 1 1 1 1 1 1 1 1 1 1 0 1 0 1 1 1 1 1 1 0 1 1 1 0 1 1 1\n",
      " 1 1 1 1 1 1 0 0 1 0 1 1 1 0 1 1 1 1 0 1 1 1 1 1 1 1 1 1 1 1 1 1 1 1 1 1 1\n",
      " 1 1 1 1 1 1 0 1 0 1 1 1 1 1 1 1 1 1 1 1 1 1 1 1 1 1 1 1 1 0 1 1 1 1 1 1 1\n",
      " 1 1 1 0 1 1 1 0 1 1 1 1 1 1 1 1 1 1 1 1 1 1 1 1 1 1 1 1 1 1 0 1 1 1 0 0 1\n",
      " 1 0 1 0 1 1 1 0 1 0 1 1 1 1 1 1 1 1 1 1 1 1 1 1 1 1 0 1 1 1 1 1 1 1 0 1 1\n",
      " 1 1 1 1 1 1 1 0 1 1 1 1 1 1 1 1 0 1 1 1 1 1 1 0 1 1 1 1 1 1 0 1 0]\n",
      "Actual:\n",
      " 587     1\n",
      "33      1\n",
      "2180    0\n",
      "2155    1\n",
      "1779    1\n",
      "       ..\n",
      "2567    1\n",
      "3210    1\n",
      "1114    0\n",
      "2979    1\n",
      "2896    0\n",
      "Name: Sentiment_Rating, Length: 662, dtype: int64\n",
      "\n",
      "CONFUSION MATRIX WITH BAG-OF-WORDS:\t [[ 78  15]\n",
      " [ 63 506]]\n",
      "\n",
      "OUR MODEL HAS ACCURACY WITH BAG-OF-WORDS:\t 88.21752265861026 %\n",
      "\n",
      "F1 score:\t  0.9184234647112739\n"
     ]
    }
   ],
   "source": [
    "# -----------------Applying NAIVE_BAYES Algorithm---------\n",
    "# Input the NB algorithm\n",
    "# We can also use DT , RF , Logistic Regression, etc. \n",
    "from sklearn.naive_bayes import MultinomialNB\n",
    "NB = MultinomialNB()\n",
    "print(NB)\n",
    "\n",
    "# Fit the model over train data \n",
    "NB.fit(X_train_bow, y_train_bow)\n",
    "\n",
    "# PREDICTION\n",
    "pred_zomato = NB.predict(X_test_bow)\n",
    "print('Prediction:\\n',pred_zomato)\n",
    "\n",
    "print('Actual:\\n',y_test_bow)\n",
    "\n",
    "#Import the confusion matrix from metrics\n",
    "from sklearn.metrics import confusion_matrix\n",
    "\n",
    "# Check the confusion matrix \n",
    "tab_zomato = confusion_matrix(pred_zomato, y_test_bow)\n",
    "print('\\nCONFUSION MATRIX WITH BAG-OF-WORDS:\\t',tab_zomato)\n",
    "\n",
    "# Check the accuracy for the formed model \n",
    "Acc = tab_zomato.diagonal().sum() / tab_zomato.sum() * 100\n",
    "print(\"\\nOUR MODEL HAS ACCURACY WITH BAG-OF-WORDS:\\t\", Acc ,'%')\n",
    "\n",
    "\n",
    "\n",
    "# -------------------Applying LOGISTIC REGRESSION Algorithm---------\n",
    "### Training the model \n",
    "lr_model_all = LogisticRegression() # Logistic regression\n",
    "lr_model_all.fit(X_train_bow, y_train_bow) # Fitting a logistic regression model\n",
    "\n",
    "## Predicting the output\n",
    "test_pred_lr_all = lr_model_all.predict(X_test_bow) # Class prediction\n",
    "\n",
    "## Calculate key performance metrics\n",
    "print(\"\\nF1 score:\\t \", f1_score(y_test_bow, test_pred_lr_all))\n"
   ]
  },
  {
   "cell_type": "code",
   "execution_count": 22,
   "id": "de0ba798",
   "metadata": {},
   "outputs": [
    {
     "data": {
      "text/plain": [
       "<3306x184038 sparse matrix of type '<class 'numpy.int64'>'\n",
       "\twith 303687 stored elements in Compressed Sparse Row format>"
      ]
     },
     "execution_count": 22,
     "metadata": {},
     "output_type": "execute_result"
    }
   ],
   "source": [
    "### Changes with respect to the previous code\n",
    "### 1. Increasing the n-grams from just having 1-gram to (1-gram, 2-gram, 3-gram, and 4-gram)\n",
    "### 2. Including the stopwords in the bag of words features\n",
    "bow_counts = CountVectorizer(tokenizer= word_tokenize,\n",
    "                             ngram_range=(1,4))\n",
    "\n",
    "bow_data = bow_counts.fit_transform(zomato.Written_Review_new)\n",
    "bow_data"
   ]
  },
  {
   "cell_type": "code",
   "execution_count": 23,
   "id": "e3a01347",
   "metadata": {},
   "outputs": [
    {
     "name": "stdout",
     "output_type": "stream",
     "text": [
      "\n",
      "F1 score:\t  0.9197080291970803\n"
     ]
    }
   ],
   "source": [
    "X_train_bow, X_test_bow, y_train_bow, y_test_bow = train_test_split(bow_data,\n",
    "                                                                    zomato['Sentiment_Rating'],\n",
    "                                                                    test_size = 0.2,\n",
    "                                                                    random_state = 0)\n",
    "# Defining and training the model\n",
    "lr_model_all_new = LogisticRegression(max_iter = 200)\n",
    "lr_model_all_new.fit(X_train_bow, y_train_bow)\n",
    "\n",
    "# Predicting the results\n",
    "test_pred_lr_all = lr_model_all_new.predict(X_test_bow)\n",
    "\n",
    "print(\"\\nF1 score:\\t \", f1_score(y_test_bow,test_pred_lr_all))"
   ]
  },
  {
   "cell_type": "code",
   "execution_count": 24,
   "id": "b4754a31",
   "metadata": {},
   "outputs": [
    {
     "name": "stdout",
     "output_type": "stream",
     "text": [
      "            words   weights\n",
      "66432       great  1.295028\n",
      "10034     amazing  1.137025\n",
      "125940      rohit  1.033489\n",
      "52032   excellent  0.971883\n",
      "23684     awesome  0.927983\n",
      "28713        best  0.829009\n",
      "99740        nice  0.791629\n",
      "64075        good  0.774817\n",
      "90290        love  0.566638\n",
      "11172    ambience  0.548218\n",
      "90525       loved  0.516927\n",
      "44537   delicious  0.461252\n",
      "167105       vibe  0.459149\n",
      "160341       toit  0.437297\n",
      "115274      place  0.431114\n"
     ]
    }
   ],
   "source": [
    "# interpretable features from this in terms of what contributed the most to positive and negative sentiment:\n",
    "lr_weights = pd.DataFrame(list(zip(bow_counts.get_feature_names(),     # get all the n-gram feature names\n",
    "                                   lr_model_all_new.coef_[0])),        # get the logistic regression coefficients\n",
    "                          columns= ['words','weights'])                # defining the colunm names\n",
    "\n",
    "print(lr_weights.sort_values(['weights'], ascending = False)[:15]) \n",
    "# top-15 more important features for positive reviews\n"
   ]
  },
  {
   "cell_type": "code",
   "execution_count": 25,
   "id": "a687186f",
   "metadata": {},
   "outputs": [
    {
     "name": "stdout",
     "output_type": "stream",
     "text": [
      "            words   weights\n",
      "126300    rubbish -0.552890\n",
      "142053      taste -0.611075\n",
      "153069       they -0.612738\n",
      "32525         but -0.684858\n",
      "111226  overrated -0.700857\n",
      "112709   pathetic -0.702775\n",
      "52588   expensive -0.706788\n",
      "87641        less -0.819078\n",
      "23392     average -0.842831\n",
      "24295         bad -0.905755\n",
      "108609      order -0.941093\n",
      "100513         no -1.013946\n",
      "39382        cold -1.068418\n",
      "101158        not -1.350875\n",
      "181286      worst -1.622384\n"
     ]
    }
   ],
   "source": [
    "print(lr_weights.sort_values(['weights'], ascending = False)[-15:])\n",
    "# top-15 more important features for negative reviews"
   ]
  },
  {
   "cell_type": "markdown",
   "id": "761e3e91",
   "metadata": {},
   "source": [
    "### B)_____________________TF-IDF MODEL_____________________________\n",
    "#### bag-of-words are not the only way to featurize text. Another method is the Term Frequency-Inverse Document Frequency (TF-IDF) method.\n",
    "#### This evaluates how important a word is to a document within a large collection of documents (i.e. corpus). \n",
    "#### The importance increases proportionally based on the number of times a word appears in the document but is offset by the frequency of the word in the corpus.\n",
    "#### The TF-IDF weight is the product of two terms. \n",
    "#### The first computes the normalized Term Frequency (TF); i.e. the number of times a word appears in a document divided by the total number of words in that document. \n",
    "#### The second term is the Inverse Document Frequency (IDF), computed as the logarithm of the number of the documents in the corpus divided by the number of documents where the specific term appears"
   ]
  },
  {
   "cell_type": "code",
   "execution_count": 26,
   "id": "58d9748f",
   "metadata": {},
   "outputs": [],
   "source": [
    "from sklearn.feature_extraction.text import TfidfVectorizer\n",
    "\n",
    "### Creating a python object of the class CountVectorizer\n",
    "tfidf_counts = TfidfVectorizer(tokenizer= word_tokenize, # type of tokenization\n",
    "                               stop_words=noise_words, # List of stopwords\n",
    "                               ngram_range=(1,1)) # number of n-grams\n",
    "\n",
    "tfidf_data = tfidf_counts.fit_transform(zomato['Written_Review_new'])\n",
    "tfidf_data\n",
    "\n",
    "X_train_tfidf, X_test_tfidf, y_train_tfidf, y_test_tfidf = train_test_split(tfidf_data,\n",
    "                                                                            zomato['Sentiment_Rating'],\n",
    "                                                                            test_size = 0.2,\n",
    "                                                                            random_state = 0)"
   ]
  },
  {
   "cell_type": "code",
   "execution_count": 27,
   "id": "14234c93",
   "metadata": {},
   "outputs": [
    {
     "name": "stdout",
     "output_type": "stream",
     "text": [
      "MultinomialNB()\n",
      "Prediction:\n",
      " [1 1 0 1 0 1 1 1 1 1 0 1 1 1 1 1 0 1 1 0 1 0 1 1 1 1 0 1 1 1 1 1 1 1 1 1 1\n",
      " 1 1 1 1 1 1 1 1 1 0 1 1 0 0 1 0 1 1 1 1 1 1 1 1 0 1 1 1 1 1 1 0 1 1 1 1 1\n",
      " 1 1 1 1 1 1 1 1 1 1 1 1 1 1 1 0 1 1 1 1 1 1 1 0 0 1 1 1 1 1 1 1 1 0 1 1 1\n",
      " 1 1 1 1 1 1 1 1 1 1 1 1 1 1 1 0 1 1 0 0 1 1 0 1 1 1 1 1 0 1 1 1 1 1 1 0 1\n",
      " 1 1 1 0 1 1 1 1 1 1 1 1 1 1 1 1 0 1 0 0 1 1 1 1 0 0 1 1 1 0 1 1 1 1 1 1 1\n",
      " 1 1 1 1 1 1 1 1 1 0 1 1 0 1 0 1 1 1 1 1 1 1 1 1 1 1 1 1 1 1 1 1 0 0 0 1 1\n",
      " 1 1 1 1 0 1 1 1 1 0 1 1 1 1 1 1 1 0 1 0 1 1 1 1 1 1 1 0 1 1 0 1 1 1 1 1 1\n",
      " 1 1 1 1 1 1 1 1 1 1 1 1 1 1 1 1 1 1 1 1 1 1 1 0 1 1 1 1 1 1 1 1 1 1 0 1 1\n",
      " 1 1 1 1 1 1 0 1 1 1 0 1 1 1 1 1 1 1 1 1 0 1 1 1 1 1 1 0 1 1 1 1 0 1 1 0 1\n",
      " 1 1 1 0 1 1 1 1 1 1 0 1 1 1 1 1 0 1 1 1 1 0 1 1 1 1 1 1 1 0 1 1 1 1 1 1 1\n",
      " 0 1 1 0 1 1 1 1 1 0 1 0 1 0 1 1 1 0 0 1 1 1 1 1 0 1 1 1 1 1 1 1 1 1 0 1 1\n",
      " 1 1 1 1 1 0 0 1 1 1 1 1 1 1 1 1 1 1 1 1 1 1 0 1 1 1 0 1 1 0 1 1 1 1 0 0 1\n",
      " 1 1 0 1 1 1 0 1 1 1 1 1 1 1 1 1 1 0 1 1 0 1 0 1 1 1 1 1 1 0 1 1 1 0 1 1 1\n",
      " 1 1 1 1 1 0 0 0 1 0 1 1 1 0 1 1 1 1 0 1 1 1 1 1 1 1 1 1 1 1 1 1 1 1 1 1 1\n",
      " 1 1 1 1 1 1 0 1 0 0 1 1 1 1 1 1 1 1 1 1 1 1 1 1 1 1 1 1 1 0 1 1 1 1 1 1 1\n",
      " 1 1 1 0 1 1 0 0 0 1 1 1 1 1 1 1 1 1 1 1 1 1 1 1 1 1 1 1 1 1 0 1 0 1 0 1 1\n",
      " 1 0 1 0 1 1 1 0 1 0 1 1 1 1 1 1 1 1 1 1 1 1 1 1 1 1 0 1 1 1 1 1 1 1 0 1 1\n",
      " 1 1 1 1 1 1 1 0 1 0 1 1 1 1 1 1 0 1 1 1 1 1 1 0 1 1 1 1 1 1 0 1 0]\n",
      "Actual:\n",
      " 587     1\n",
      "33      1\n",
      "2180    0\n",
      "2155    1\n",
      "1779    1\n",
      "       ..\n",
      "2567    1\n",
      "3210    1\n",
      "1114    0\n",
      "2979    1\n",
      "2896    0\n",
      "Name: Sentiment_Rating, Length: 662, dtype: int64\n",
      "\n",
      "CONFUSION MATRIX WITH TD-IDF:\t [[ 84  23]\n",
      " [ 57 498]]\n",
      "\n",
      "OUR MODEL HAS ACCURACY WITH TD-IDF:\t 87.91540785498489 %\n",
      "\n",
      "F1 score TD-IDF: \t 0.9201793721973094\n"
     ]
    }
   ],
   "source": [
    "# -------------Applying NAIVE-BAYES algorithm to TF-IDF features--------\n",
    "# Input the NB algorithm\n",
    "# We can also use DT , RF , Logistic Regression, etc. \n",
    "from sklearn.naive_bayes import MultinomialNB\n",
    "NB = MultinomialNB()\n",
    "print(NB)\n",
    "\n",
    "# Fit the model over train data \n",
    "NB.fit(X_train_bow, y_train_bow)\n",
    "\n",
    "# PREDICTION\n",
    "pred_zomato = NB.predict(X_test_bow)\n",
    "print('Prediction:\\n',pred_zomato)\n",
    "\n",
    "print('Actual:\\n',y_test_bow)\n",
    "\n",
    "#Import the confusion matrix from metrics\n",
    "from sklearn.metrics import confusion_matrix\n",
    "\n",
    "# Check the confusion matrix \n",
    "tab_zomato = confusion_matrix(pred_zomato, y_test_bow)\n",
    "print('\\nCONFUSION MATRIX WITH TD-IDF:\\t',tab_zomato)\n",
    "\n",
    "# Check the accuracy for the formed model \n",
    "Acc = tab_zomato.diagonal().sum() / tab_zomato.sum() * 100\n",
    "print('\\nOUR MODEL HAS ACCURACY WITH TD-IDF:\\t',Acc ,'%')\n",
    "\n",
    "\n",
    "\n",
    "# -------------Applying LOGISTIC REGRESSION to TF-IDF features--------\n",
    "### Setting up the model class\n",
    "lr_model_tf_idf = LogisticRegression()\n",
    "\n",
    "## Training the model \n",
    "lr_model_tf_idf.fit(X_train_tfidf,y_train_tfidf)\n",
    "\n",
    "## Prediciting the results\n",
    "test_pred_lr_all = lr_model_tf_idf.predict(X_test_tfidf)\n",
    "\n",
    "## Evaluating the model\n",
    "print(\"\\nF1 score TD-IDF: \\t\",f1_score(y_test_bow, test_pred_lr_all))\n",
    "# their is a slightly increased in our F1 score value with TF-IDF as compared to the bag-of-words approach."
   ]
  }
 ],
 "metadata": {
  "kernelspec": {
   "display_name": "Python 3 (ipykernel)",
   "language": "python",
   "name": "python3"
  },
  "language_info": {
   "codemirror_mode": {
    "name": "ipython",
    "version": 3
   },
   "file_extension": ".py",
   "mimetype": "text/x-python",
   "name": "python",
   "nbconvert_exporter": "python",
   "pygments_lexer": "ipython3",
   "version": "3.9.7"
  }
 },
 "nbformat": 4,
 "nbformat_minor": 5
}
